{
 "cells": [
  {
   "cell_type": "markdown",
   "metadata": {},
   "source": [
    "# Optimisation of analytical functions"
   ]
  },
  {
   "cell_type": "code",
   "execution_count": 1,
   "metadata": {},
   "outputs": [],
   "source": [
    "// include header files\n",
    "\n",
    "#include <iostream>\n",
    "\n",
    "#include \"xtensor/xarray.hpp\"\n",
    "#include \"xtensor/xnpy.hpp\"\n",
    "#include \"xtensor/xio.hpp\"\n",
    "\n",
    "#include \"xevo/ga.hpp\"\n",
    "#include \"xevo/analytical_functions.hpp\""
   ]
  },
  {
   "cell_type": "markdown",
   "metadata": {},
   "source": [
    "## Rosenbrock function"
   ]
  },
  {
   "cell_type": "markdown",
   "metadata": {},
   "source": [
    "Optimise Rosenbrock function with `xevo::ga`.\n",
    "\n",
    "Rosenbrock function is expressed as:\n",
    "\n",
    "$$\n",
    " f(x_1, x_2) = 100(x_1^2 - x_2) + (1 - x_1)^2 \\quad with \\quad \\bf{X} \\quad \\in \\left[-3, 3\\right]\n",
    "$$"
   ]
  },
  {
   "cell_type": "code",
   "execution_count": 2,
   "metadata": {},
   "outputs": [
    {
     "name": "stdout",
     "output_type": "stream",
     "text": [
      "Last pop: \n",
      "{{ 0.666643,  0.666619},\n",
      " { 0.666643,  0.666619},\n",
      " { 0.668622,  0.669365},\n",
      " { 0.669622,  0.669878},\n",
      " { 0.669859,  0.666255},\n",
      " { 0.667877,  0.667588},\n",
      " { 0.666631,  0.66641 },\n",
      " { 0.666619,  0.66641 },\n",
      " { 0.667592,  0.664534},\n",
      " { 0.666158,  0.664397},\n",
      " { 0.663966,  0.666348},\n",
      " { 0.666922,  0.669878},\n",
      " { 0.668298,  0.669878},\n",
      " { 0.669583,  0.671286},\n",
      " { 0.666584,  0.666584},\n",
      " { 0.666156,  0.666156},\n",
      " { 0.665946,  0.667673},\n",
      " { 0.66426 ,  0.665966},\n",
      " { 0.666135,  0.668011},\n",
      " { 0.666135,  0.664219},\n",
      " { 0.667626,  0.671286},\n",
      " { 0.663966,  0.667626},\n",
      " { 0.665717,  0.664816},\n",
      " { 0.666619,  0.665292},\n",
      " { 0.666631,  0.666619},\n",
      " { 0.667022,  0.666578},\n",
      " { 0.668717,  0.669526},\n",
      " { 0.668952,  0.667767},\n",
      " { 0.667071,  0.667033},\n",
      " { 0.666995,  0.667243},\n",
      " { 0.665646,  0.664816},\n",
      " { 0.665646,  0.666476},\n",
      " { 0.666643,  0.675364},\n",
      " { 0.666211,  0.65414 },\n",
      " { 0.667071,  0.648517},\n",
      " { 0.675637,  0.666538},\n",
      " { 0.668662,  0.662365},\n",
      " { 0.664409,  0.66626 },\n",
      " { 0.666555,  0.672172},\n",
      " { 0.667353,  0.666255}}\n",
      "\n"
     ]
    }
   ],
   "source": [
    "{\n",
    "    std::array<std::size_t, 2> shape = {40, 2};\n",
    "    xt::xarray<double> X = xt::zeros<double>(shape);\n",
    "\n",
    "    xevo::Rosenbrock_scaled objective_f;\n",
    "\n",
    "    xevo::ga genetic_algorithm;\n",
    "    genetic_algorithm.initialise(X);\n",
    "\n",
    "    std::size_t num_generations = 300;\n",
    "\n",
    "    std::size_t no_frames = 10;\n",
    "    std::size_t skip = static_cast<std::size_t>(std::floor(num_generations / no_frames));\n",
    "\n",
    "    for (auto i{0}; i<num_generations; ++i)\n",
    "    {\n",
    "        genetic_algorithm.evolve(X, objective_f, std::make_tuple(0.05),\n",
    "                              std::make_tuple(), std::make_tuple(0.8),\n",
    "                              std::make_tuple(0.5, 60.0));\n",
    "        if (i % skip == 0)\n",
    "        {\n",
    "            std::string pop_file = \"./output/rose_pop_\" + std::to_string(i) + \".npy\";\n",
    "            xt::dump_npy(pop_file, X);\n",
    "        }\n",
    "    }\n",
    "\n",
    "    std::cout << \"Last pop: \\n\" << X << \"\\n\" << std::endl;\n",
    "}"
   ]
  },
  {
   "cell_type": "markdown",
   "metadata": {},
   "source": [
    "## Branin function"
   ]
  },
  {
   "cell_type": "markdown",
   "metadata": {},
   "source": [
    "Optimise Branin function with `xevo::ga`.\n",
    "\n",
    "Branin function is expressed as:\n",
    "\n",
    "$$\n",
    " f(x) = ( x_2 - \\frac{5.1}{4\\pi^2}x_2 + \\frac{5}{\\pi}x_1 - 6 )^2 + 10\\left[ (1 - \\frac{1}{8\\pi})\\cos{x_1} + 1 \\right] + 5x_1\\\\\n",
    "\t\t\t\twith \\quad x_1 \\in \\left[-5,10\\right], x_2 \\in \\left[0,15\\right] \n",
    "$$"
   ]
  },
  {
   "cell_type": "code",
   "execution_count": 3,
   "metadata": {},
   "outputs": [
    {
     "name": "stdout",
     "output_type": "stream",
     "text": [
      "Last pop: \n",
      "{{ 0.121575,  0.823954},\n",
      " { 0.121575,  0.823954},\n",
      " { 0.121408,  0.465969},\n",
      " { 0.817329,  0.81053 },\n",
      " { 0.81719 ,  0.810425},\n",
      " { 0.121575,  0.823954},\n",
      " { 0.170102,  0.705588},\n",
      " { 0.121167,  0.145634},\n",
      " { 0.124126,  0.122647},\n",
      " { 0.121167,  0.122647},\n",
      " { 0.121167,  0.125002},\n",
      " { 0.453185,  0.785203},\n",
      " { 0.815407,  0.806686},\n",
      " { 0.121408,  0.121324},\n",
      " { 0.81574 ,  0.807525},\n",
      " { 0.121575,  0.472561},\n",
      " { 0.509804,  0.80417 },\n",
      " { 0.215438,  0.509804},\n",
      " { 0.121575,  0.81817 },\n",
      " { 0.121575,  0.823954},\n",
      " { 0.121575,  0.64119 },\n",
      " { 0.46698 ,  0.812385},\n",
      " { 0.12285 ,  0.812385},\n",
      " { 0.79503 ,  0.777675},\n",
      " { 0.121575,  0.295784},\n",
      " { 0.121575,  0.295784},\n",
      " { 0.464148,  0.80417 },\n",
      " { 0.124126,  0.453257},\n",
      " { 0.121241,  0.476818},\n",
      " { 0.146951,  0.476818},\n",
      " { 0.79503 ,  0.777675},\n",
      " { 0.12285 ,  0.812385},\n",
      " { 0.806645,  0.800905},\n",
      " { 0.121575,  0.46124 },\n",
      " { 0.136102,  0.614087},\n",
      " { 0.121575,  0.830299},\n",
      " { 0.139489,  0.81053 },\n",
      " { 0.121241,  0.813469},\n",
      " { 0.12102 ,  0.823954},\n",
      " { 0.121241,  0.783965}}\n",
      "\n"
     ]
    }
   ],
   "source": [
    "{\n",
    "    std::array<std::size_t, 2> shape = {40, 2};\n",
    "    xt::xarray<double> X = xt::zeros<double>(shape);\n",
    "\n",
    "    xevo::Branin objective_f;\n",
    "\n",
    "    xevo::ga genetic_algorithm;\n",
    "    genetic_algorithm.initialise(X);\n",
    "\n",
    "    std::size_t num_generations = 300;\n",
    "\n",
    "    auto y = objective_f(X);\n",
    "    auto sort = xt::argsort(y);\n",
    "    double y_best = y(sort(39));\n",
    "\n",
    "    std::size_t stall{0};\n",
    "\n",
    "    for (auto i{0}; i<num_generations; ++i)\n",
    "    {\n",
    "        genetic_algorithm.evolve(X, objective_f, std::make_tuple(0.05),\n",
    "                              std::make_tuple(), std::make_tuple(0.85),\n",
    "                              std::make_tuple(0.5, 60.0));\n",
    "\n",
    "        y = objective_f(X);\n",
    "        sort = xt::argsort(y);\n",
    "        double y_best_n = y(sort(39));\n",
    "\n",
    "        if ((fabs(y_best - y_best_n) <= 1e-006))\n",
    "        {\n",
    "          if (stall <= 50)\n",
    "          {\n",
    "            ++stall;\n",
    "          }\n",
    "          else\n",
    "          {\n",
    "            std::cout << i << std::endl;\n",
    "            break;\n",
    "          }\n",
    "        }\n",
    "        else\n",
    "        {\n",
    "          stall = 0;\n",
    "        }\n",
    "\n",
    "\n",
    "        y_best = y_best_n;\n",
    "    }\n",
    "\n",
    "    std::cout << \"Last pop: \\n\" << X << \"\\n\" << std::endl;\n",
    "}"
   ]
  },
  {
   "cell_type": "code",
   "execution_count": null,
   "metadata": {},
   "outputs": [],
   "source": []
  }
 ],
 "metadata": {
  "kernelspec": {
   "display_name": "C++14",
   "language": "C++14",
   "name": "xcpp14"
  },
  "language_info": {
   "codemirror_mode": "text/x-c++src",
   "file_extension": ".cpp",
   "mimetype": "text/x-c++src",
   "name": "c++",
   "version": "-std=c++14"
  }
 },
 "nbformat": 4,
 "nbformat_minor": 4
}
