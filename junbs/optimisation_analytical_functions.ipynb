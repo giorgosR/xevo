{
 "cells": [
  {
   "cell_type": "markdown",
   "metadata": {},
   "source": [
    "# Optimisation of analytical functions"
   ]
  },
  {
   "cell_type": "code",
   "execution_count": null,
   "metadata": {},
   "outputs": [],
   "source": [
    "// include header files\n",
    "\n",
    "#include <iostream>\n",
    "\n",
    "#include \"xtensor/xarray.hpp\"\n",
    "#include \"xtensor/xnpy.hpp\"\n",
    "#include \"xtensor/xio.hpp\"\n",
    "\n",
    "#include \"xnio/ga.hpp\"\n",
    "#include \"xnio/analytical_functions.hpp\""
   ]
  },
  {
   "cell_type": "markdown",
   "metadata": {},
   "source": [
    "## Rosenbrock function"
   ]
  },
  {
   "cell_type": "markdown",
   "metadata": {},
   "source": [
    "Optimise Rosenbrock function with `xnio::ga`.\n",
    "\n",
    "Rosenbrock function is expressed as:\n",
    "\n",
    "$$\n",
    " f(x_1, x_2) = 100(x_1^2 - x_2) + (1 - x_1)^2 \\quad with \\quad \\bf{X} \\quad \\in \\left[-3, 3\\right]\n",
    "$$"
   ]
  },
  {
   "cell_type": "code",
   "execution_count": null,
   "metadata": {},
   "outputs": [],
   "source": [
    "std::array<std::size_t, 2> shape = {40, 2};\n",
    "xt::xarray<double> X = xt::zeros<double>(shape);\n",
    "\n",
    "xnio::Rosenbrock objective_f;\n",
    "\n",
    "xnio::ga genetic_algorithm;\n",
    "genetic_algorithm.initialise(X);\n",
    "\n",
    "std::size_t num_generations = 300;\n",
    "\n",
    "std::size_t no_frames = 10;\n",
    "std::size_t skip = static_cast<std::size_t>(std::floor(num_generations / no_frames));\n",
    "\n",
    "for (auto i{0}; i<num_generations; ++i)\n",
    "{\n",
    "    genetic_algorithm.evolve(X, objective_f, std::make_tuple(0.05),\n",
    "                          std::make_tuple(), std::make_tuple(0.8),\n",
    "                          std::make_tuple(0.5, 60.0));\n",
    "    if (i % skip == 0)\n",
    "    {\n",
    "        std::string pop_file = \"./output/rose_pop_\" + std::to_string(i) + \".npy\";\n",
    "        xt::dump_npy(pop_file, X);\n",
    "    }\n",
    "}\n",
    "\n",
    "std::cout << \"Last pop: \\n\" << X << \"\\n\" << std::endl;"
   ]
  },
  {
   "cell_type": "markdown",
   "metadata": {},
   "source": [
    "## Branin function"
   ]
  },
  {
   "cell_type": "markdown",
   "metadata": {},
   "source": [
    "Optimise Branin function with `xnio::ga`.\n",
    "\n",
    "Branin function is expressed as:\n",
    "\n",
    "$$\n",
    " f(x) = ( x_2 - \\frac{5.1}{4\\pi^2}x_2 + \\frac{5}{\\pi}x_1 - 6 )^2 + 10\\left[ (1 - \\frac{1}{8\\pi})\\cos{x_1} + 1 \\right] + 5x_1\\\\\n",
    "\t\t\t\twith \\quad x_1 \\in \\left[-5,10\\right], x_2 \\in \\left[0,15\\right] \n",
    "$$"
   ]
  },
  {
   "cell_type": "code",
   "execution_count": null,
   "metadata": {},
   "outputs": [],
   "source": [
    "std::array<std::size_t, 2> shape = {40, 2};\n",
    "xt::xarray<double> X = xt::zeros<double>(shape);\n",
    "\n",
    "xnio::Branin objective_f;\n",
    "\n",
    "xnio::ga genetic_algorithm;\n",
    "genetic_algorithm.initialise(X);\n",
    "\n",
    "std::size_t num_generations = 300;\n",
    "\n",
    "auto y = objective_f(X);\n",
    "auto sort = xt::argsort(y);\n",
    "double y_best = y(sort(39));\n",
    "\n",
    "std::size_t stall{0};\n",
    "\n",
    "for (auto i{0}; i<num_generations; ++i)\n",
    "{\n",
    "    genetic_algorithm.evolve(X, objective_f, std::make_tuple(0.05),\n",
    "                          std::make_tuple(), std::make_tuple(0.85),\n",
    "                          std::make_tuple(0.5, 60.0));\n",
    "    \n",
    "    y = objective_f(X);\n",
    "    sort = xt::argsort(y);\n",
    "    double y_best_n = y(sort(39));\n",
    "    \n",
    "    if ((fabs(y_best - y_best_n) <= 1e-006))\n",
    "    {\n",
    "      if (stall <= 50)\n",
    "      {\n",
    "        ++stall;\n",
    "      }\n",
    "      else\n",
    "      {\n",
    "        std::cout << i << std::endl;\n",
    "        break;\n",
    "      }\n",
    "    }\n",
    "    else\n",
    "    {\n",
    "      stall = 0;\n",
    "    }\n",
    "        \n",
    "\n",
    "    y_best = y_best_n;\n",
    "}\n",
    "\n",
    "std::cout << \"Last pop: \\n\" << X << \"\\n\" << std::endl;"
   ]
  },
  {
   "cell_type": "code",
   "execution_count": null,
   "metadata": {},
   "outputs": [],
   "source": []
  }
 ],
 "metadata": {
  "kernelspec": {
   "display_name": "C++14",
   "language": "C++14",
   "name": "xcpp14"
  },
  "language_info": {
   "codemirror_mode": "text/x-c++src",
   "file_extension": ".cpp",
   "mimetype": "text/x-c++src",
   "name": "c++",
   "version": "-std=c++14"
  }
 },
 "nbformat": 4,
 "nbformat_minor": 4
}
